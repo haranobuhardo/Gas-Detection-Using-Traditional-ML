{
 "cells": [
  {
   "cell_type": "code",
   "execution_count": 1,
   "metadata": {},
   "outputs": [],
   "source": [
    "import sys\n",
    "sys.path.append('..') "
   ]
  },
  {
   "cell_type": "code",
   "execution_count": 19,
   "metadata": {},
   "outputs": [],
   "source": [
    "import src.util as utils\n",
    "\n",
    "import pandas as pd\n",
    "import numpy as np\n",
    "import os\n",
    "\n",
    "from sklearn.linear_model import LogisticRegression\n",
    "from sklearn.tree import DecisionTreeClassifier\n",
    "from sklearn.ensemble import RandomForestClassifier\n",
    "from sklearn.neighbors import KNeighborsClassifier\n",
    "from xgboost import XGBClassifier\n",
    "\n",
    "from sklearn.metrics import classification_report, ConfusionMatrixDisplay, roc_curve, roc_auc_score\n",
    "\n",
    "from datetime import datetime as dt\n",
    "from tqdm import tqdm\n",
    "import yaml\n",
    "import joblib\n",
    "import json\n",
    "import copy\n",
    "import hashlib"
   ]
  },
  {
   "cell_type": "code",
   "execution_count": 5,
   "metadata": {},
   "outputs": [
    {
     "data": {
      "text/plain": [
       "'d:\\\\ML\\\\PACMANN INTRO PROJECT'"
      ]
     },
     "execution_count": 5,
     "metadata": {},
     "output_type": "execute_result"
    }
   ],
   "source": [
    "os.chdir(os.path.dirname(os.getcwd()))\n",
    "os.getcwd()"
   ]
  },
  {
   "cell_type": "code",
   "execution_count": 8,
   "metadata": {},
   "outputs": [],
   "source": [
    "config = utils.load_config()"
   ]
  },
  {
   "cell_type": "code",
   "execution_count": 9,
   "metadata": {},
   "outputs": [],
   "source": [
    "X_train_feng = utils.pickle_load(config['train_feng_set_path'][0])\n",
    "y_train_feng = utils.pickle_load(config['train_feng_set_path'][1])\n",
    "X_val_feng = utils.pickle_load(config['val_feng_set_path'][0])\n",
    "y_val_feng = utils.pickle_load(config['val_feng_set_path'][1])"
   ]
  },
  {
   "cell_type": "code",
   "execution_count": 10,
   "metadata": {},
   "outputs": [],
   "source": [
    "def time_stamp(to_str = False):\n",
    "    if to_str:\n",
    "        return dt.now().strftime(\"%Y-%m-%d %H:%M:%S\")\n",
    "    else:\n",
    "        return dt.now()"
   ]
  },
  {
   "cell_type": "code",
   "execution_count": 11,
   "metadata": {},
   "outputs": [],
   "source": [
    "def create_log_template():\n",
    "    logger = {\n",
    "        \"model_name\" : [],\n",
    "        \"model_uid\" : [],\n",
    "        \"training_time\" : [],\n",
    "        \"training_date\" : [],\n",
    "        \"performance\" : [],\n",
    "        \"f1_score_avg\" : [],\n",
    "        \"data_configurations\" : [],\n",
    "    }\n",
    "\n",
    "    return logger"
   ]
  },
  {
   "cell_type": "code",
   "execution_count": 12,
   "metadata": {},
   "outputs": [],
   "source": [
    "def training_log_updater(current_log, log_path):\n",
    "    current_log = current_log.copy()\n",
    "\n",
    "    try:\n",
    "        with open(log_path, \"r\") as file:\n",
    "            last_log = json.load(file)\n",
    "        file.close()\n",
    "    except FileNotFoundError as ffe:\n",
    "        with open(log_path, \"w\") as file:\n",
    "            file.write(\"[]\")\n",
    "        file.close()\n",
    "        with open(log_path, \"r\") as file:\n",
    "            last_log = json.load(file)\n",
    "        file.close()\n",
    "    \n",
    "    last_log.append(current_log)\n",
    "\n",
    "    with open(log_path, \"w\") as file:\n",
    "        json.dump(last_log, file)\n",
    "        file.close()\n",
    "\n",
    "    return last_log"
   ]
  },
  {
   "cell_type": "code",
   "execution_count": 24,
   "metadata": {},
   "outputs": [],
   "source": [
    "def training_log_to_df(training_log):\n",
    "    training_res = pd.DataFrame()\n",
    "\n",
    "    for log in tqdm(training_log):\n",
    "        training_res = pd.concat([training_res, pd.DataFrame(log)])\n",
    "    \n",
    "    training_res.sort_values([\"f1_score_avg\", \"training_time\"], ascending = [False, True], inplace = True)\n",
    "    training_res.reset_index(inplace = True, drop = True)\n",
    "    \n",
    "    return training_res"
   ]
  },
  {
   "cell_type": "code",
   "execution_count": 28,
   "metadata": {},
   "outputs": [],
   "source": [
    "lgr_baseline_multinomial_lbfgs = LogisticRegression(multi_class='multinomial', solver='lbfgs', random_state=42)\n",
    "lgr_baseline_multinomial_sag = LogisticRegression(multi_class='multinomial', solver='sag', random_state=42)\n",
    "lgr_baseline_ovr_lbfgs = LogisticRegression(multi_class='ovr', solver='lbfgs', random_state=42)\n",
    "lgr_baseline_ovr_sag = LogisticRegression(multi_class='ovr', solver='sag', random_state=42)\n",
    "dct_baseline = DecisionTreeClassifier(random_state=42)\n",
    "rfc_baseline = RandomForestClassifier(random_state=42)\n",
    "knn_baseline = KNeighborsClassifier(random_state=42)\n",
    "xgb_baseline = XGBClassifier(objective='multi:softmax', num_class=len(config['encoder_classes']), random_state=42)"
   ]
  },
  {
   "cell_type": "code",
   "execution_count": 43,
   "metadata": {},
   "outputs": [],
   "source": [
    "list_of_model = {\n",
    "    \"default_sampling\" : [\n",
    "        { \"model_name\": \"lgr_baseline_multinomial_lbfgs\", \"model_object\": lgr_baseline_multinomial_lbfgs, \"model_uid\": \"\"},\n",
    "        { \"model_name\": \"lgr_baseline_multinomial_sag\", \"model_object\": lgr_baseline_multinomial_sag, \"model_uid\": \"\"},\n",
    "        { \"model_name\": \"lgr_baseline_ovr_lbfgs\", \"model_object\": lgr_baseline_ovr_lbfgs, \"model_uid\": \"\"},\n",
    "        { \"model_name\": \"lgr_baseline_ovr_sag\", \"model_object\": lgr_baseline_ovr_sag, \"model_uid\": \"\"},\n",
    "        { \"model_name\": dct_baseline.__class__.__name__, \"model_object\": dct_baseline, \"model_uid\": \"\"},\n",
    "        { \"model_name\": rfc_baseline.__class__.__name__, \"model_object\": rfc_baseline, \"model_uid\": \"\"},\n",
    "        { \"model_name\": knn_baseline.__class__.__name__, \"model_object\": knn_baseline, \"model_uid\": \"\"},\n",
    "        { \"model_name\": xgb_baseline.__class__.__name__, \"model_object\": xgb_baseline, \"model_uid\": \"\"}\n",
    "        ]\n",
    "    }"
   ]
  },
  {
   "cell_type": "code",
   "execution_count": 17,
   "metadata": {},
   "outputs": [],
   "source": [
    "def train_eval_model(list_of_model, prefix_model_name, x_train, y_train, data_configuration_name, x_valid, y_valid, log_path):\n",
    "\n",
    "    list_of_model = copy.deepcopy(list_of_model) # since list is a mutable objects (referring to the same object)\n",
    "    logger = create_log_template()\n",
    "\n",
    "    for model in tqdm(list_of_model):    \n",
    "        model_name = prefix_model_name + \"-\" + model[\"model_name\"]\n",
    "\n",
    "        start_time = time_stamp()\n",
    "        model[\"model_object\"].fit(x_train, y_train)\n",
    "        finished_time = time_stamp()\n",
    "\n",
    "        elapsed_time = finished_time - start_time\n",
    "        elapsed_time = elapsed_time.total_seconds()\n",
    "\n",
    "        y_pred = model[\"model_object\"].predict(x_valid)\n",
    "        performance = classification_report(y_valid, y_pred, output_dict = True)\n",
    "\n",
    "        plain_id = str(start_time) + str(finished_time)\n",
    "        chiper_id = hashlib.md5(plain_id.encode()).hexdigest()\n",
    "\n",
    "        model[\"model_uid\"] = chiper_id\n",
    "\n",
    "        logger[\"model_name\"].append(model_name)\n",
    "        logger[\"model_uid\"].append(chiper_id)\n",
    "        logger[\"training_time\"].append(elapsed_time)\n",
    "        logger[\"training_date\"].append(str(start_time))\n",
    "        logger[\"performance\"].append(performance)\n",
    "        logger[\"f1_score_avg\"].append(performance[\"macro avg\"][\"f1-score\"])\n",
    "        logger[\"data_configurations\"].append(data_configuration_name)\n",
    "\n",
    "    training_log = training_log_updater(logger, log_path)\n",
    "\n",
    "    return training_log, list_of_model"
   ]
  },
  {
   "cell_type": "code",
   "execution_count": 44,
   "metadata": {},
   "outputs": [
    {
     "name": "stderr",
     "output_type": "stream",
     "text": [
      "  0%|          | 0/8 [00:00<?, ?it/s]c:\\Users\\HardoTriwahyu\\anaconda3\\envs\\gas_sensor_classification_pacmann\\lib\\site-packages\\sklearn\\linear_model\\_logistic.py:458: ConvergenceWarning: lbfgs failed to converge (status=1):\n",
      "STOP: TOTAL NO. of ITERATIONS REACHED LIMIT.\n",
      "\n",
      "Increase the number of iterations (max_iter) or scale the data as shown in:\n",
      "    https://scikit-learn.org/stable/modules/preprocessing.html\n",
      "Please also refer to the documentation for alternative solver options:\n",
      "    https://scikit-learn.org/stable/modules/linear_model.html#logistic-regression\n",
      "  n_iter_i = _check_optimize_result(\n",
      "100%|██████████| 8/8 [00:01<00:00,  5.43it/s]\n"
     ]
    }
   ],
   "source": [
    "training_log, list_of_model_train = train_eval_model(\n",
    "    list_of_model[\"default_sampling\"],\n",
    "    \"baseline_model\",\n",
    "    X_train_feng,\n",
    "    y_train_feng,\n",
    "    \"default_sampling\",\n",
    "    X_val_feng,\n",
    "    y_val_feng,\n",
    "    config['models_training_log_path']\n",
    ")"
   ]
  },
  {
   "cell_type": "code",
   "execution_count": 45,
   "metadata": {},
   "outputs": [],
   "source": [
    "list_of_model[\"undersampling\"] = copy.deepcopy(list_of_model_train)"
   ]
  },
  {
   "cell_type": "code",
   "execution_count": 46,
   "metadata": {},
   "outputs": [
    {
     "name": "stderr",
     "output_type": "stream",
     "text": [
      "100%|██████████| 1/1 [00:00<00:00, 333.36it/s]\n"
     ]
    }
   ],
   "source": [
    "training_res = training_log_to_df(training_log)"
   ]
  },
  {
   "cell_type": "code",
   "execution_count": 47,
   "metadata": {},
   "outputs": [
    {
     "data": {
      "text/html": [
       "<div>\n",
       "<style scoped>\n",
       "    .dataframe tbody tr th:only-of-type {\n",
       "        vertical-align: middle;\n",
       "    }\n",
       "\n",
       "    .dataframe tbody tr th {\n",
       "        vertical-align: top;\n",
       "    }\n",
       "\n",
       "    .dataframe thead th {\n",
       "        text-align: right;\n",
       "    }\n",
       "</style>\n",
       "<table border=\"1\" class=\"dataframe\">\n",
       "  <thead>\n",
       "    <tr style=\"text-align: right;\">\n",
       "      <th></th>\n",
       "      <th>model_name</th>\n",
       "      <th>model_uid</th>\n",
       "      <th>training_time</th>\n",
       "      <th>training_date</th>\n",
       "      <th>performance</th>\n",
       "      <th>f1_score_avg</th>\n",
       "      <th>data_configurations</th>\n",
       "    </tr>\n",
       "  </thead>\n",
       "  <tbody>\n",
       "    <tr>\n",
       "      <th>0</th>\n",
       "      <td>baseline_model-XGBClassifier</td>\n",
       "      <td>469110b4e0acddc0c78dabcf361ecd2a</td>\n",
       "      <td>0.399496</td>\n",
       "      <td>2023-04-08 23:10:32.084369</td>\n",
       "      <td>{'0': {'precision': 1.0, 'recall': 1.0, 'f1-sc...</td>\n",
       "      <td>0.953901</td>\n",
       "      <td>default_sampling</td>\n",
       "    </tr>\n",
       "    <tr>\n",
       "      <th>1</th>\n",
       "      <td>baseline_model-KNeighborsClassifier</td>\n",
       "      <td>c71b7757460c16447a2c75d3a0d012cf</td>\n",
       "      <td>0.003103</td>\n",
       "      <td>2023-04-08 23:10:32.027975</td>\n",
       "      <td>{'0': {'precision': 1.0, 'recall': 1.0, 'f1-sc...</td>\n",
       "      <td>0.951555</td>\n",
       "      <td>default_sampling</td>\n",
       "    </tr>\n",
       "    <tr>\n",
       "      <th>2</th>\n",
       "      <td>baseline_model-RandomForestClassifier</td>\n",
       "      <td>c1afe5ce13011c27f36d094612aa4cb3</td>\n",
       "      <td>0.520536</td>\n",
       "      <td>2023-04-08 23:10:31.477917</td>\n",
       "      <td>{'0': {'precision': 1.0, 'recall': 1.0, 'f1-sc...</td>\n",
       "      <td>0.945304</td>\n",
       "      <td>default_sampling</td>\n",
       "    </tr>\n",
       "    <tr>\n",
       "      <th>3</th>\n",
       "      <td>baseline_model-DecisionTreeClassifier</td>\n",
       "      <td>cd6a533c9af7f37d5814b387db5f208f</td>\n",
       "      <td>0.008973</td>\n",
       "      <td>2023-04-08 23:10:31.461946</td>\n",
       "      <td>{'0': {'precision': 1.0, 'recall': 1.0, 'f1-sc...</td>\n",
       "      <td>0.945269</td>\n",
       "      <td>default_sampling</td>\n",
       "    </tr>\n",
       "    <tr>\n",
       "      <th>4</th>\n",
       "      <td>baseline_model-lgr_baseline_ovr_sag</td>\n",
       "      <td>cf0a3853013902ef720c79e7ff685823</td>\n",
       "      <td>0.059541</td>\n",
       "      <td>2023-04-08 23:10:31.396403</td>\n",
       "      <td>{'0': {'precision': 1.0, 'recall': 1.0, 'f1-sc...</td>\n",
       "      <td>0.839731</td>\n",
       "      <td>default_sampling</td>\n",
       "    </tr>\n",
       "    <tr>\n",
       "      <th>5</th>\n",
       "      <td>baseline_model-lgr_baseline_ovr_lbfgs</td>\n",
       "      <td>cd8915b0ea7280a93502e9f14700f35d</td>\n",
       "      <td>0.088689</td>\n",
       "      <td>2023-04-08 23:10:31.300715</td>\n",
       "      <td>{'0': {'precision': 1.0, 'recall': 1.0, 'f1-sc...</td>\n",
       "      <td>0.839731</td>\n",
       "      <td>default_sampling</td>\n",
       "    </tr>\n",
       "    <tr>\n",
       "      <th>6</th>\n",
       "      <td>baseline_model-lgr_baseline_multinomial_sag</td>\n",
       "      <td>06a4f72c39c61c6eab84f0d33d883bd0</td>\n",
       "      <td>0.079999</td>\n",
       "      <td>2023-04-08 23:10:31.210190</td>\n",
       "      <td>{'0': {'precision': 1.0, 'recall': 1.0, 'f1-sc...</td>\n",
       "      <td>0.837271</td>\n",
       "      <td>default_sampling</td>\n",
       "    </tr>\n",
       "    <tr>\n",
       "      <th>7</th>\n",
       "      <td>baseline_model-lgr_baseline_multinomial_lbfgs</td>\n",
       "      <td>45b7293aefa160d1d3ab281d2cc96d47</td>\n",
       "      <td>0.170586</td>\n",
       "      <td>2023-04-08 23:10:31.026558</td>\n",
       "      <td>{'0': {'precision': 1.0, 'recall': 1.0, 'f1-sc...</td>\n",
       "      <td>0.837271</td>\n",
       "      <td>default_sampling</td>\n",
       "    </tr>\n",
       "  </tbody>\n",
       "</table>\n",
       "</div>"
      ],
      "text/plain": [
       "                                      model_name  \\\n",
       "0                   baseline_model-XGBClassifier   \n",
       "1            baseline_model-KNeighborsClassifier   \n",
       "2          baseline_model-RandomForestClassifier   \n",
       "3          baseline_model-DecisionTreeClassifier   \n",
       "4            baseline_model-lgr_baseline_ovr_sag   \n",
       "5          baseline_model-lgr_baseline_ovr_lbfgs   \n",
       "6    baseline_model-lgr_baseline_multinomial_sag   \n",
       "7  baseline_model-lgr_baseline_multinomial_lbfgs   \n",
       "\n",
       "                          model_uid  training_time  \\\n",
       "0  469110b4e0acddc0c78dabcf361ecd2a       0.399496   \n",
       "1  c71b7757460c16447a2c75d3a0d012cf       0.003103   \n",
       "2  c1afe5ce13011c27f36d094612aa4cb3       0.520536   \n",
       "3  cd6a533c9af7f37d5814b387db5f208f       0.008973   \n",
       "4  cf0a3853013902ef720c79e7ff685823       0.059541   \n",
       "5  cd8915b0ea7280a93502e9f14700f35d       0.088689   \n",
       "6  06a4f72c39c61c6eab84f0d33d883bd0       0.079999   \n",
       "7  45b7293aefa160d1d3ab281d2cc96d47       0.170586   \n",
       "\n",
       "                training_date  \\\n",
       "0  2023-04-08 23:10:32.084369   \n",
       "1  2023-04-08 23:10:32.027975   \n",
       "2  2023-04-08 23:10:31.477917   \n",
       "3  2023-04-08 23:10:31.461946   \n",
       "4  2023-04-08 23:10:31.396403   \n",
       "5  2023-04-08 23:10:31.300715   \n",
       "6  2023-04-08 23:10:31.210190   \n",
       "7  2023-04-08 23:10:31.026558   \n",
       "\n",
       "                                         performance  f1_score_avg  \\\n",
       "0  {'0': {'precision': 1.0, 'recall': 1.0, 'f1-sc...      0.953901   \n",
       "1  {'0': {'precision': 1.0, 'recall': 1.0, 'f1-sc...      0.951555   \n",
       "2  {'0': {'precision': 1.0, 'recall': 1.0, 'f1-sc...      0.945304   \n",
       "3  {'0': {'precision': 1.0, 'recall': 1.0, 'f1-sc...      0.945269   \n",
       "4  {'0': {'precision': 1.0, 'recall': 1.0, 'f1-sc...      0.839731   \n",
       "5  {'0': {'precision': 1.0, 'recall': 1.0, 'f1-sc...      0.839731   \n",
       "6  {'0': {'precision': 1.0, 'recall': 1.0, 'f1-sc...      0.837271   \n",
       "7  {'0': {'precision': 1.0, 'recall': 1.0, 'f1-sc...      0.837271   \n",
       "\n",
       "  data_configurations  \n",
       "0    default_sampling  \n",
       "1    default_sampling  \n",
       "2    default_sampling  \n",
       "3    default_sampling  \n",
       "4    default_sampling  \n",
       "5    default_sampling  \n",
       "6    default_sampling  \n",
       "7    default_sampling  "
      ]
     },
     "execution_count": 47,
     "metadata": {},
     "output_type": "execute_result"
    }
   ],
   "source": [
    "training_res"
   ]
  },
  {
   "cell_type": "code",
   "execution_count": null,
   "metadata": {},
   "outputs": [],
   "source": []
  }
 ],
 "metadata": {
  "kernelspec": {
   "display_name": "gas_sensor_classification_pacmann",
   "language": "python",
   "name": "python3"
  },
  "language_info": {
   "codemirror_mode": {
    "name": "ipython",
    "version": 3
   },
   "file_extension": ".py",
   "mimetype": "text/x-python",
   "name": "python",
   "nbconvert_exporter": "python",
   "pygments_lexer": "ipython3",
   "version": "3.10.9 | packaged by Anaconda, Inc. | (main, Mar  8 2023, 10:42:25) [MSC v.1916 64 bit (AMD64)]"
  },
  "orig_nbformat": 4,
  "vscode": {
   "interpreter": {
    "hash": "ba6714e2943bb55ce408bb5a19aff8aeba7426b3ff515a06145f29d1a9a14d4c"
   }
  }
 },
 "nbformat": 4,
 "nbformat_minor": 2
}
