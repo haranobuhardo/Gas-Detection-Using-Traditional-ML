{
 "cells": [
  {
   "attachments": {},
   "cell_type": "markdown",
   "metadata": {},
   "source": [
    "# Data Preparation\n",
    "In this section, we will prepare our data for machine learning by performing several key steps. First, we will load the data from its source, ensuring that it is in a format that can be easily used for analysis. Then, we will perform feature selection to identify the most relevant predictor features and objective features for our model. We will also perform data validation to ensure that the data is clean, consistent, and accurate.\n",
    "\n",
    "Next, we will split the data into separate training, validation, and test sets, which will allow us to train and evaluate our model effectively. Finally, we will export the data in a format that can be easily used by our machine learning algorithms, such as pickles. By following these steps, we can ensure that our data is well-prepared and optimized for machine learning, which will ultimately help us to build better models and make more accurate predictions."
   ]
  },
  {
   "cell_type": "code",
   "execution_count": 1,
   "metadata": {},
   "outputs": [],
   "source": [
    "# change current working system path\n",
    "import sys\n",
    "sys.path.append('..') "
   ]
  },
  {
   "cell_type": "code",
   "execution_count": 2,
   "metadata": {},
   "outputs": [],
   "source": [
    "## boilerplate\n",
    "import src.util as utils\n",
    "\n",
    "import pandas as pd\n",
    "import os\n",
    "from sklearn.model_selection import train_test_split"
   ]
  },
  {
   "cell_type": "code",
   "execution_count": 3,
   "metadata": {},
   "outputs": [
    {
     "data": {
      "text/plain": [
       "'d:\\\\ML\\\\PACMANN INTRO PROJECT - Gas Sensors Multi-Class Classification'"
      ]
     },
     "execution_count": 3,
     "metadata": {},
     "output_type": "execute_result"
    }
   ],
   "source": [
    "# change current os working directory\n",
    "os.chdir(os.path.dirname(os.getcwd()))\n",
    "os.getcwd()"
   ]
  },
  {
   "attachments": {},
   "cell_type": "markdown",
   "metadata": {},
   "source": [
    "## Load config.yml configuration"
   ]
  },
  {
   "cell_type": "code",
   "execution_count": 4,
   "metadata": {},
   "outputs": [],
   "source": [
    "config = utils.load_config()"
   ]
  },
  {
   "attachments": {},
   "cell_type": "markdown",
   "metadata": {},
   "source": [
    "### Load Data"
   ]
  },
  {
   "cell_type": "code",
   "execution_count": 5,
   "metadata": {},
   "outputs": [
    {
     "data": {
      "text/html": [
       "<div>\n",
       "<style scoped>\n",
       "    .dataframe tbody tr th:only-of-type {\n",
       "        vertical-align: middle;\n",
       "    }\n",
       "\n",
       "    .dataframe tbody tr th {\n",
       "        vertical-align: top;\n",
       "    }\n",
       "\n",
       "    .dataframe thead th {\n",
       "        text-align: right;\n",
       "    }\n",
       "</style>\n",
       "<table border=\"1\" class=\"dataframe\">\n",
       "  <thead>\n",
       "    <tr style=\"text-align: right;\">\n",
       "      <th></th>\n",
       "      <th>Serial Number</th>\n",
       "      <th>MQ2</th>\n",
       "      <th>MQ3</th>\n",
       "      <th>MQ5</th>\n",
       "      <th>MQ6</th>\n",
       "      <th>MQ7</th>\n",
       "      <th>MQ8</th>\n",
       "      <th>MQ135</th>\n",
       "      <th>Gas</th>\n",
       "      <th>Corresponding Image Name</th>\n",
       "    </tr>\n",
       "  </thead>\n",
       "  <tbody>\n",
       "    <tr>\n",
       "      <th>0</th>\n",
       "      <td>0</td>\n",
       "      <td>555</td>\n",
       "      <td>515</td>\n",
       "      <td>377</td>\n",
       "      <td>338</td>\n",
       "      <td>666</td>\n",
       "      <td>451</td>\n",
       "      <td>416</td>\n",
       "      <td>NoGas</td>\n",
       "      <td>0_NoGas</td>\n",
       "    </tr>\n",
       "    <tr>\n",
       "      <th>1</th>\n",
       "      <td>1</td>\n",
       "      <td>555</td>\n",
       "      <td>516</td>\n",
       "      <td>377</td>\n",
       "      <td>339</td>\n",
       "      <td>666</td>\n",
       "      <td>451</td>\n",
       "      <td>416</td>\n",
       "      <td>NoGas</td>\n",
       "      <td>1_NoGas</td>\n",
       "    </tr>\n",
       "    <tr>\n",
       "      <th>2</th>\n",
       "      <td>2</td>\n",
       "      <td>556</td>\n",
       "      <td>517</td>\n",
       "      <td>376</td>\n",
       "      <td>337</td>\n",
       "      <td>666</td>\n",
       "      <td>451</td>\n",
       "      <td>416</td>\n",
       "      <td>NoGas</td>\n",
       "      <td>2_NoGas</td>\n",
       "    </tr>\n",
       "    <tr>\n",
       "      <th>3</th>\n",
       "      <td>3</td>\n",
       "      <td>556</td>\n",
       "      <td>516</td>\n",
       "      <td>376</td>\n",
       "      <td>336</td>\n",
       "      <td>665</td>\n",
       "      <td>451</td>\n",
       "      <td>416</td>\n",
       "      <td>NoGas</td>\n",
       "      <td>3_NoGas</td>\n",
       "    </tr>\n",
       "    <tr>\n",
       "      <th>4</th>\n",
       "      <td>4</td>\n",
       "      <td>556</td>\n",
       "      <td>516</td>\n",
       "      <td>376</td>\n",
       "      <td>337</td>\n",
       "      <td>665</td>\n",
       "      <td>451</td>\n",
       "      <td>416</td>\n",
       "      <td>NoGas</td>\n",
       "      <td>4_NoGas</td>\n",
       "    </tr>\n",
       "    <tr>\n",
       "      <th>...</th>\n",
       "      <td>...</td>\n",
       "      <td>...</td>\n",
       "      <td>...</td>\n",
       "      <td>...</td>\n",
       "      <td>...</td>\n",
       "      <td>...</td>\n",
       "      <td>...</td>\n",
       "      <td>...</td>\n",
       "      <td>...</td>\n",
       "      <td>...</td>\n",
       "    </tr>\n",
       "    <tr>\n",
       "      <th>6395</th>\n",
       "      <td>1595</td>\n",
       "      <td>658</td>\n",
       "      <td>445</td>\n",
       "      <td>455</td>\n",
       "      <td>414</td>\n",
       "      <td>491</td>\n",
       "      <td>321</td>\n",
       "      <td>436</td>\n",
       "      <td>Mixture</td>\n",
       "      <td>1595_Mixture</td>\n",
       "    </tr>\n",
       "    <tr>\n",
       "      <th>6396</th>\n",
       "      <td>1596</td>\n",
       "      <td>650</td>\n",
       "      <td>444</td>\n",
       "      <td>451</td>\n",
       "      <td>411</td>\n",
       "      <td>486</td>\n",
       "      <td>317</td>\n",
       "      <td>431</td>\n",
       "      <td>Mixture</td>\n",
       "      <td>1596_Mixture</td>\n",
       "    </tr>\n",
       "    <tr>\n",
       "      <th>6397</th>\n",
       "      <td>1597</td>\n",
       "      <td>630</td>\n",
       "      <td>443</td>\n",
       "      <td>446</td>\n",
       "      <td>407</td>\n",
       "      <td>474</td>\n",
       "      <td>312</td>\n",
       "      <td>429</td>\n",
       "      <td>Mixture</td>\n",
       "      <td>1597_Mixture</td>\n",
       "    </tr>\n",
       "    <tr>\n",
       "      <th>6398</th>\n",
       "      <td>1598</td>\n",
       "      <td>632</td>\n",
       "      <td>443</td>\n",
       "      <td>444</td>\n",
       "      <td>405</td>\n",
       "      <td>471</td>\n",
       "      <td>309</td>\n",
       "      <td>430</td>\n",
       "      <td>Mixture</td>\n",
       "      <td>1598_Mixture</td>\n",
       "    </tr>\n",
       "    <tr>\n",
       "      <th>6399</th>\n",
       "      <td>1599</td>\n",
       "      <td>633</td>\n",
       "      <td>442</td>\n",
       "      <td>442</td>\n",
       "      <td>402</td>\n",
       "      <td>468</td>\n",
       "      <td>306</td>\n",
       "      <td>434</td>\n",
       "      <td>Mixture</td>\n",
       "      <td>1599_Mixture</td>\n",
       "    </tr>\n",
       "  </tbody>\n",
       "</table>\n",
       "<p>6400 rows × 10 columns</p>\n",
       "</div>"
      ],
      "text/plain": [
       "      Serial Number  MQ2  MQ3  MQ5  MQ6  MQ7  MQ8  MQ135      Gas  \\\n",
       "0                 0  555  515  377  338  666  451    416    NoGas   \n",
       "1                 1  555  516  377  339  666  451    416    NoGas   \n",
       "2                 2  556  517  376  337  666  451    416    NoGas   \n",
       "3                 3  556  516  376  336  665  451    416    NoGas   \n",
       "4                 4  556  516  376  337  665  451    416    NoGas   \n",
       "...             ...  ...  ...  ...  ...  ...  ...    ...      ...   \n",
       "6395           1595  658  445  455  414  491  321    436  Mixture   \n",
       "6396           1596  650  444  451  411  486  317    431  Mixture   \n",
       "6397           1597  630  443  446  407  474  312    429  Mixture   \n",
       "6398           1598  632  443  444  405  471  309    430  Mixture   \n",
       "6399           1599  633  442  442  402  468  306    434  Mixture   \n",
       "\n",
       "     Corresponding Image Name  \n",
       "0                     0_NoGas  \n",
       "1                     1_NoGas  \n",
       "2                     2_NoGas  \n",
       "3                     3_NoGas  \n",
       "4                     4_NoGas  \n",
       "...                       ...  \n",
       "6395             1595_Mixture  \n",
       "6396             1596_Mixture  \n",
       "6397             1597_Mixture  \n",
       "6398             1598_Mixture  \n",
       "6399             1599_Mixture  \n",
       "\n",
       "[6400 rows x 10 columns]"
      ]
     },
     "execution_count": 5,
     "metadata": {},
     "output_type": "execute_result"
    }
   ],
   "source": [
    "df = pd.read_csv(config['dataset_path'])\n",
    "df"
   ]
  },
  {
   "attachments": {},
   "cell_type": "markdown",
   "metadata": {},
   "source": [
    "### Feature Selection"
   ]
  },
  {
   "cell_type": "code",
   "execution_count": 6,
   "metadata": {},
   "outputs": [
    {
     "data": {
      "text/html": [
       "<div>\n",
       "<style scoped>\n",
       "    .dataframe tbody tr th:only-of-type {\n",
       "        vertical-align: middle;\n",
       "    }\n",
       "\n",
       "    .dataframe tbody tr th {\n",
       "        vertical-align: top;\n",
       "    }\n",
       "\n",
       "    .dataframe thead th {\n",
       "        text-align: right;\n",
       "    }\n",
       "</style>\n",
       "<table border=\"1\" class=\"dataframe\">\n",
       "  <thead>\n",
       "    <tr style=\"text-align: right;\">\n",
       "      <th></th>\n",
       "      <th>MQ2</th>\n",
       "      <th>MQ3</th>\n",
       "      <th>MQ5</th>\n",
       "      <th>MQ6</th>\n",
       "      <th>MQ7</th>\n",
       "      <th>MQ8</th>\n",
       "      <th>MQ135</th>\n",
       "      <th>Gas</th>\n",
       "    </tr>\n",
       "  </thead>\n",
       "  <tbody>\n",
       "    <tr>\n",
       "      <th>0</th>\n",
       "      <td>555</td>\n",
       "      <td>515</td>\n",
       "      <td>377</td>\n",
       "      <td>338</td>\n",
       "      <td>666</td>\n",
       "      <td>451</td>\n",
       "      <td>416</td>\n",
       "      <td>NoGas</td>\n",
       "    </tr>\n",
       "    <tr>\n",
       "      <th>1</th>\n",
       "      <td>555</td>\n",
       "      <td>516</td>\n",
       "      <td>377</td>\n",
       "      <td>339</td>\n",
       "      <td>666</td>\n",
       "      <td>451</td>\n",
       "      <td>416</td>\n",
       "      <td>NoGas</td>\n",
       "    </tr>\n",
       "    <tr>\n",
       "      <th>2</th>\n",
       "      <td>556</td>\n",
       "      <td>517</td>\n",
       "      <td>376</td>\n",
       "      <td>337</td>\n",
       "      <td>666</td>\n",
       "      <td>451</td>\n",
       "      <td>416</td>\n",
       "      <td>NoGas</td>\n",
       "    </tr>\n",
       "    <tr>\n",
       "      <th>3</th>\n",
       "      <td>556</td>\n",
       "      <td>516</td>\n",
       "      <td>376</td>\n",
       "      <td>336</td>\n",
       "      <td>665</td>\n",
       "      <td>451</td>\n",
       "      <td>416</td>\n",
       "      <td>NoGas</td>\n",
       "    </tr>\n",
       "    <tr>\n",
       "      <th>4</th>\n",
       "      <td>556</td>\n",
       "      <td>516</td>\n",
       "      <td>376</td>\n",
       "      <td>337</td>\n",
       "      <td>665</td>\n",
       "      <td>451</td>\n",
       "      <td>416</td>\n",
       "      <td>NoGas</td>\n",
       "    </tr>\n",
       "    <tr>\n",
       "      <th>...</th>\n",
       "      <td>...</td>\n",
       "      <td>...</td>\n",
       "      <td>...</td>\n",
       "      <td>...</td>\n",
       "      <td>...</td>\n",
       "      <td>...</td>\n",
       "      <td>...</td>\n",
       "      <td>...</td>\n",
       "    </tr>\n",
       "    <tr>\n",
       "      <th>6395</th>\n",
       "      <td>658</td>\n",
       "      <td>445</td>\n",
       "      <td>455</td>\n",
       "      <td>414</td>\n",
       "      <td>491</td>\n",
       "      <td>321</td>\n",
       "      <td>436</td>\n",
       "      <td>Mixture</td>\n",
       "    </tr>\n",
       "    <tr>\n",
       "      <th>6396</th>\n",
       "      <td>650</td>\n",
       "      <td>444</td>\n",
       "      <td>451</td>\n",
       "      <td>411</td>\n",
       "      <td>486</td>\n",
       "      <td>317</td>\n",
       "      <td>431</td>\n",
       "      <td>Mixture</td>\n",
       "    </tr>\n",
       "    <tr>\n",
       "      <th>6397</th>\n",
       "      <td>630</td>\n",
       "      <td>443</td>\n",
       "      <td>446</td>\n",
       "      <td>407</td>\n",
       "      <td>474</td>\n",
       "      <td>312</td>\n",
       "      <td>429</td>\n",
       "      <td>Mixture</td>\n",
       "    </tr>\n",
       "    <tr>\n",
       "      <th>6398</th>\n",
       "      <td>632</td>\n",
       "      <td>443</td>\n",
       "      <td>444</td>\n",
       "      <td>405</td>\n",
       "      <td>471</td>\n",
       "      <td>309</td>\n",
       "      <td>430</td>\n",
       "      <td>Mixture</td>\n",
       "    </tr>\n",
       "    <tr>\n",
       "      <th>6399</th>\n",
       "      <td>633</td>\n",
       "      <td>442</td>\n",
       "      <td>442</td>\n",
       "      <td>402</td>\n",
       "      <td>468</td>\n",
       "      <td>306</td>\n",
       "      <td>434</td>\n",
       "      <td>Mixture</td>\n",
       "    </tr>\n",
       "  </tbody>\n",
       "</table>\n",
       "<p>6400 rows × 8 columns</p>\n",
       "</div>"
      ],
      "text/plain": [
       "      MQ2  MQ3  MQ5  MQ6  MQ7  MQ8  MQ135      Gas\n",
       "0     555  515  377  338  666  451    416    NoGas\n",
       "1     555  516  377  339  666  451    416    NoGas\n",
       "2     556  517  376  337  666  451    416    NoGas\n",
       "3     556  516  376  336  665  451    416    NoGas\n",
       "4     556  516  376  337  665  451    416    NoGas\n",
       "...   ...  ...  ...  ...  ...  ...    ...      ...\n",
       "6395  658  445  455  414  491  321    436  Mixture\n",
       "6396  650  444  451  411  486  317    431  Mixture\n",
       "6397  630  443  446  407  474  312    429  Mixture\n",
       "6398  632  443  444  405  471  309    430  Mixture\n",
       "6399  633  442  442  402  468  306    434  Mixture\n",
       "\n",
       "[6400 rows x 8 columns]"
      ]
     },
     "execution_count": 6,
     "metadata": {},
     "output_type": "execute_result"
    }
   ],
   "source": [
    "# for the moment, let's ignore the image photo column\n",
    "df = df.loc[:, config['predictors'] + [config['label']]]\n",
    "df"
   ]
  },
  {
   "attachments": {},
   "cell_type": "markdown",
   "metadata": {},
   "source": [
    "### Data Cleaning\n",
    "Only doing data type convertion for all predictors and checking classes of objective feature."
   ]
  },
  {
   "cell_type": "code",
   "execution_count": 7,
   "metadata": {},
   "outputs": [],
   "source": [
    "for column in config['int_columns']:\n",
    "    df[column] = df[column].astype('int32')"
   ]
  },
  {
   "cell_type": "code",
   "execution_count": 8,
   "metadata": {},
   "outputs": [
    {
     "data": {
      "text/plain": [
       "[('Mixture',), ('NoGas',), ('Perfume',), ('Smoke',)]"
      ]
     },
     "execution_count": 8,
     "metadata": {},
     "output_type": "execute_result"
    }
   ],
   "source": [
    "df[config['obj_columns']].value_counts().index.tolist()"
   ]
  },
  {
   "attachments": {},
   "cell_type": "markdown",
   "metadata": {},
   "source": [
    "### Data Defense\n",
    "\n",
    "Based on columns data types in config.yml"
   ]
  },
  {
   "cell_type": "code",
   "execution_count": 9,
   "metadata": {},
   "outputs": [],
   "source": [
    "def check_data(input_data, config):\n",
    "    # Measure the length of the data\n",
    "    len_input_data = len(input_data)\n",
    "\n",
    "    # Check data types\n",
    "    assert input_data.select_dtypes(\"int\").columns.to_list() == config['int_columns'], \"an error occurred in int columns\"\n",
    "    assert input_data.select_dtypes(\"object\").columns.to_list() == config['obj_columns'], \"an error occurred in object columns\"\n",
    "\n",
    "    # Check target classes\n",
    "    assert input_data[config['label']].value_counts().index.to_list() == config['target_classes'], \"an error occurred in target classes check\"\n",
    "\n",
    "    # Check sensor values range\n",
    "    for i in input_data.filter(regex='MQ.*').columns.to_list():\n",
    "        assert input_data[i].between(config['range_sensor_val'][0], config['range_sensor_val'][1]).sum() == len_input_data, \"an error occurred in sensor values range check\"\n",
    "\n",
    "    print('Checking complete. Everything looks good.')"
   ]
  },
  {
   "cell_type": "code",
   "execution_count": 10,
   "metadata": {},
   "outputs": [
    {
     "name": "stdout",
     "output_type": "stream",
     "text": [
      "Checking complete. Everything looks good.\n"
     ]
    }
   ],
   "source": [
    "check_data(df, config)"
   ]
  },
  {
   "attachments": {},
   "cell_type": "markdown",
   "metadata": {},
   "source": [
    "### Data Splitting\n",
    "In the data splitting stage, the dataset is divided into three separate groups for training, validation, and testing, respectively. We will use a 60:20:20 split ratio and set the random_state parameter to 42 to ensure reproducibility of the results. We will also use the stratify parameter to ensure that each class is represented in equal proportions across the train, validation, and test sets, thereby maintaining the balance of the dataset."
   ]
  },
  {
   "cell_type": "code",
   "execution_count": 11,
   "metadata": {},
   "outputs": [],
   "source": [
    "X = df.drop(config['obj_columns'], axis=1)\n",
    "y = df[config['obj_columns']]\n",
    "\n",
    "X_traival, X_test, y_traival, y_test = train_test_split(X, y, test_size=0.2, random_state=42, stratify=y)\n",
    "X_train, X_val, y_train, y_val = train_test_split(X_traival, y_traival, test_size=0.25, random_state=42, stratify=y_traival)"
   ]
  },
  {
   "attachments": {},
   "cell_type": "markdown",
   "metadata": {},
   "source": [
    "### Data Pickle Dump\n",
    "Save the final datasets (train, validation, test) into pickle files."
   ]
  },
  {
   "cell_type": "code",
   "execution_count": 12,
   "metadata": {},
   "outputs": [],
   "source": [
    "utils.pickle_dump(df, config['dataset_processed_path'])\n",
    "\n",
    "utils.pickle_dump(X_train, config['train_set_path'][0])\n",
    "utils.pickle_dump(y_train, config['train_set_path'][1])\n",
    "\n",
    "utils.pickle_dump(X_test, config['test_set_path'][0])\n",
    "utils.pickle_dump(y_test, config['test_set_path'][1])\n",
    "\n",
    "utils.pickle_dump(X_val, config['val_set_path'][0])\n",
    "utils.pickle_dump(y_val, config['val_set_path'][1])"
   ]
  }
 ],
 "metadata": {
  "kernelspec": {
   "display_name": "gas_sensor_classification_pacmann",
   "language": "python",
   "name": "python3"
  },
  "language_info": {
   "codemirror_mode": {
    "name": "ipython",
    "version": 3
   },
   "file_extension": ".py",
   "mimetype": "text/x-python",
   "name": "python",
   "nbconvert_exporter": "python",
   "pygments_lexer": "ipython3",
   "version": "3.10.9 | packaged by Anaconda, Inc. | (main, Mar  8 2023, 10:42:25) [MSC v.1916 64 bit (AMD64)]"
  },
  "orig_nbformat": 4,
  "vscode": {
   "interpreter": {
    "hash": "ba6714e2943bb55ce408bb5a19aff8aeba7426b3ff515a06145f29d1a9a14d4c"
   }
  }
 },
 "nbformat": 4,
 "nbformat_minor": 2
}
